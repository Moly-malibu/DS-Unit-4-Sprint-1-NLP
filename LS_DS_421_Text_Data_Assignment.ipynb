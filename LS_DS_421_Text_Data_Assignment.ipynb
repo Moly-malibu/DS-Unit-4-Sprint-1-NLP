{
  "nbformat": 4,
  "nbformat_minor": 0,
  "metadata": {
    "colab": {
      "name": "LS_DS_421_Text_Data_Assignment.ipynb",
      "provenance": [],
      "collapsed_sections": [],
      "include_colab_link": true
    },
    "kernelspec": {
      "display_name": "U4-S1-NLP (Python 3)",
      "language": "python",
      "name": "u4-s1-nlp"
    },
    "language_info": {
      "codemirror_mode": {
        "name": "ipython",
        "version": 3
      },
      "file_extension": ".py",
      "mimetype": "text/x-python",
      "name": "python",
      "nbconvert_exporter": "python",
      "pygments_lexer": "ipython3",
      "version": "3.7.3"
    },
    "toc-autonumbering": false
  },
  "cells": [
    {
      "cell_type": "markdown",
      "metadata": {
        "id": "view-in-github",
        "colab_type": "text"
      },
      "source": [
        "<a href=\"https://colab.research.google.com/github/Moly-malibu/DS-Unit-4-Sprint-1-NLP/blob/master/LS_DS_421_Text_Data_Assignment.ipynb\" target=\"_parent\"><img src=\"https://colab.research.google.com/assets/colab-badge.svg\" alt=\"Open In Colab\"/></a>"
      ]
    },
    {
      "cell_type": "markdown",
      "metadata": {
        "id": "PhX1esxKnnkA",
        "colab_type": "text"
      },
      "source": [
        "<img align=\"left\" src=\"https://lever-client-logos.s3.amazonaws.com/864372b1-534c-480e-acd5-9711f850815c-1524247202159.png\" width=200>\n",
        "<br></br>\n",
        "<br></br>\n",
        "\n",
        "# Natural Language Processing (NLP)\n",
        "## *Data Science Unit 4 Sprint 1 Assignment 1*\n",
        "\n",
        "Your goal in this assignment: find the attributes of the best & worst coffee shops in the dataset. The text is fairly raw: dates in the review, extra words in the `star_rating` column, etc. You'll probably want to clean that stuff up for a better analysis. \n",
        "\n",
        "Analyze the corpus of text using text visualizations of token frequency. Try cleaning the data as much as possible. Try the following techniques: \n",
        "- Lemmatization\n",
        "- Custom stopword removal\n",
        "\n",
        "Keep in mind the attributes of good tokens. Once you have a solid baseline, layer in the star rating in your visualization(s). Key part of this assignment - produce a write-up of the attributes of the best and worst coffee shops. Based on your analysis, what makes the best the best and the worst the worst. Use graphs and numbesr from your analysis to support your conclusions. There should be plenty of markdown cells! :coffee:"
      ]
    },
    {
      "cell_type": "code",
      "metadata": {
        "id": "dgtUo2hMnnkC",
        "colab_type": "code",
        "outputId": "3c05c1a0-0c2e-4419-b10d-03c663f0201c",
        "colab": {
          "base_uri": "https://localhost:8080/",
          "height": 321
        }
      },
      "source": [
        "from IPython.display import YouTubeVideo\n",
        "\n",
        "YouTubeVideo('Jml7NVYm8cs')"
      ],
      "execution_count": 1,
      "outputs": [
        {
          "output_type": "execute_result",
          "data": {
            "text/html": [
              "\n",
              "        <iframe\n",
              "            width=\"400\"\n",
              "            height=\"300\"\n",
              "            src=\"https://www.youtube.com/embed/Jml7NVYm8cs\"\n",
              "            frameborder=\"0\"\n",
              "            allowfullscreen\n",
              "        ></iframe>\n",
              "        "
            ],
            "text/plain": [
              "<IPython.lib.display.YouTubeVideo at 0x7f0286912240>"
            ],
            "image/jpeg": "[encoded data removed]"
          },
          "metadata": {
            "tags": []
          },
          "execution_count": 1
        }
      ]
    },
    {
      "cell_type": "code",
      "metadata": {
        "id": "1568zJuFnnkK",
        "colab_type": "code",
        "outputId": "c252d851-731f-4910-d44f-547812bbd967",
        "colab": {
          "base_uri": "https://localhost:8080/",
          "height": 34
        }
      },
      "source": [
        "%pwd"
      ],
      "execution_count": 2,
      "outputs": [
        {
          "output_type": "execute_result",
          "data": {
            "text/plain": [
              "'/content'"
            ]
          },
          "metadata": {
            "tags": []
          },
          "execution_count": 2
        }
      ]
    },
    {
      "cell_type": "code",
      "metadata": {
        "id": "68tmZGwunnkO",
        "colab_type": "code",
        "outputId": "0e269028-72f6-4abe-996a-a354bf1670f4",
        "colab": {
          "base_uri": "https://localhost:8080/",
          "height": 204
        }
      },
      "source": [
        "import pandas as pd\n",
        "\n",
        "url = \"https://raw.githubusercontent.com/LambdaSchool/DS-Unit-4-Sprint-1-NLP/master/module1-text-data/data/yelp_coffeeshop_review_data.csv\"\n",
        "\n",
        "df = pd.read_csv(url)\n",
        "df.head()"
      ],
      "execution_count": 3,
      "outputs": [
        {
          "output_type": "execute_result",
          "data": {
            "text/html": [
              "<div>\n",
              "<style scoped>\n",
              "    .dataframe tbody tr th:only-of-type {\n",
              "        vertical-align: middle;\n",
              "    }\n",
              "\n",
              "    .dataframe tbody tr th {\n",
              "        vertical-align: top;\n",
              "    }\n",
              "\n",
              "    .dataframe thead th {\n",
              "        text-align: right;\n",
              "    }\n",
              "</style>\n",
              "<table border=\"1\" class=\"dataframe\">\n",
              "  <thead>\n",
              "    <tr style=\"text-align: right;\">\n",
              "      <th></th>\n",
              "      <th>coffee_shop_name</th>\n",
              "      <th>full_review_text</th>\n",
              "      <th>star_rating</th>\n",
              "    </tr>\n",
              "  </thead>\n",
              "  <tbody>\n",
              "    <tr>\n",
              "      <th>0</th>\n",
              "      <td>The Factory - Cafe With a Soul</td>\n",
              "      <td>11/25/2016 1 check-in Love love loved the atm...</td>\n",
              "      <td>5.0 star rating</td>\n",
              "    </tr>\n",
              "    <tr>\n",
              "      <th>1</th>\n",
              "      <td>The Factory - Cafe With a Soul</td>\n",
              "      <td>12/2/2016 Listed in Date Night: Austin, Ambia...</td>\n",
              "      <td>4.0 star rating</td>\n",
              "    </tr>\n",
              "    <tr>\n",
              "      <th>2</th>\n",
              "      <td>The Factory - Cafe With a Soul</td>\n",
              "      <td>11/30/2016 1 check-in Listed in Brunch Spots ...</td>\n",
              "      <td>4.0 star rating</td>\n",
              "    </tr>\n",
              "    <tr>\n",
              "      <th>3</th>\n",
              "      <td>The Factory - Cafe With a Soul</td>\n",
              "      <td>11/25/2016 Very cool decor! Good drinks Nice ...</td>\n",
              "      <td>2.0 star rating</td>\n",
              "    </tr>\n",
              "    <tr>\n",
              "      <th>4</th>\n",
              "      <td>The Factory - Cafe With a Soul</td>\n",
              "      <td>12/3/2016 1 check-in They are located within ...</td>\n",
              "      <td>4.0 star rating</td>\n",
              "    </tr>\n",
              "  </tbody>\n",
              "</table>\n",
              "</div>"
            ],
            "text/plain": [
              "                  coffee_shop_name  ...        star_rating\n",
              "0  The Factory - Cafe With a Soul   ...   5.0 star rating \n",
              "1  The Factory - Cafe With a Soul   ...   4.0 star rating \n",
              "2  The Factory - Cafe With a Soul   ...   4.0 star rating \n",
              "3  The Factory - Cafe With a Soul   ...   2.0 star rating \n",
              "4  The Factory - Cafe With a Soul   ...   4.0 star rating \n",
              "\n",
              "[5 rows x 3 columns]"
            ]
          },
          "metadata": {
            "tags": []
          },
          "execution_count": 3
        }
      ]
    },
    {
      "cell_type": "markdown",
      "metadata": {
        "id": "reSiQ9vZzEC9",
        "colab_type": "text"
      },
      "source": [
        "# find the attributes of the best & worst coffee shops in the dataset"
      ]
    },
    {
      "cell_type": "code",
      "metadata": {
        "id": "A-CqRQ-fz5pN",
        "colab_type": "code",
        "colab": {}
      },
      "source": [
        "import seaborn as sns\n",
        "import pandas as pd\n",
        "import re\n",
        "from collections import Counter\n",
        "import matplotlib.pyplot as plt\n",
        "import spacy\n",
        "from spacy.tokenizer import Tokenizer\n",
        "from nltk.stem import PorterStemmer"
      ],
      "execution_count": 0,
      "outputs": []
    },
    {
      "cell_type": "code",
      "metadata": {
        "id": "uFDpE5M1dD-N",
        "colab_type": "code",
        "outputId": "3fb60a4c-1a4d-44dd-c504-a5fc95fa4924",
        "colab": {
          "base_uri": "https://localhost:8080/",
          "height": 34
        }
      },
      "source": [
        "df.columns"
      ],
      "execution_count": 6,
      "outputs": [
        {
          "output_type": "execute_result",
          "data": {
            "text/plain": [
              "Index(['coffee_shop_name', 'full_review_text', 'star_rating'], dtype='object')"
            ]
          },
          "metadata": {
            "tags": []
          },
          "execution_count": 6
        }
      ]
    },
    {
      "cell_type": "code",
      "metadata": {
        "id": "KeeO4ZfJW4rG",
        "colab_type": "code",
        "outputId": "d97c4016-a8b8-45c6-c2bd-d27c6c33ced7",
        "colab": {
          "base_uri": "https://localhost:8080/",
          "height": 119
        }
      },
      "source": [
        "df['star_rating'].value_counts(normalize=True)"
      ],
      "execution_count": 7,
      "outputs": [
        {
          "output_type": "execute_result",
          "data": {
            "text/plain": [
              " 5.0 star rating     0.496324\n",
              " 4.0 star rating     0.309874\n",
              " 3.0 star rating     0.096901\n",
              " 2.0 star rating     0.060399\n",
              " 1.0 star rating     0.036502\n",
              "Name: star_rating, dtype: float64"
            ]
          },
          "metadata": {
            "tags": []
          },
          "execution_count": 7
        }
      ]
    },
    {
      "cell_type": "code",
      "metadata": {
        "id": "AfkJp_HjXKcQ",
        "colab_type": "code",
        "outputId": "1c076886-ecf0-4b33-9149-5a5052baaabe",
        "colab": {
          "base_uri": "https://localhost:8080/",
          "height": 221
        }
      },
      "source": [
        "df['coffee_shop_name'].value_counts(normalize=True)"
      ],
      "execution_count": 8,
      "outputs": [
        {
          "output_type": "execute_result",
          "data": {
            "text/plain": [
              "Epoch Coffee                            0.052521\n",
              "Halcyon                                 0.039391\n",
              "The Factory - Cafe With a Soul          0.032038\n",
              "Venezia Italian Gelato                  0.026261\n",
              "Houndstooth Coffee                      0.026261\n",
              "                                          ...   \n",
              "Lucky Lab Coffee                        0.003283\n",
              "Sister Coffee                           0.002232\n",
              "Kowabunga Coffee                        0.002101\n",
              "The Marvelous Vintage Tea Party Co.     0.001313\n",
              "Lola Savannah Coffee Downtown           0.000525\n",
              "Name: coffee_shop_name, Length: 79, dtype: float64"
            ]
          },
          "metadata": {
            "tags": []
          },
          "execution_count": 8
        }
      ]
    },
    {
      "cell_type": "code",
      "metadata": {
        "id": "AV9MwQHplO_6",
        "colab_type": "code",
        "colab": {}
      },
      "source": [
        "# Processing Raw Text with Spacy\n",
        "\n",
        "nlp = spacy.load(\"en_core_web_sm\")\n",
        "\n",
        "# Tokenizer\n",
        "tokenizer = Tokenizer(nlp.vocab)"
      ],
      "execution_count": 0,
      "outputs": []
    },
    {
      "cell_type": "code",
      "metadata": {
        "id": "24Jveehti-V4",
        "colab_type": "code",
        "colab": {}
      },
      "source": [
        "#create new DF to conserved the original data\n",
        "df = df.copy()\n",
        "\n",
        "# renames columns for ease of use later\n",
        "df.columns=['shop', 'text', 'rating']\n",
        "\n",
        "# changes rating column to have only the number (still as a string)\n",
        "df['rating'] = df['rating'].str[1:4]\n",
        "\n",
        "#Convertsa number string to flat and int\n",
        "df['rating'] = df['rating'].astype(float)\n",
        "df['rating'] = df['rating'].astype(int)\n",
        "\n",
        "#Create date column (full reviwe text - date)\n",
        "df['date'] = df['text'].str.split(' ').apply(lambda x: x[1])\n",
        "\n",
        "#Data column pass to datetime\n",
        "df['date'] = df['date'].apply(pd.to_datetime)\n",
        "\n",
        "#Tokenizer \n",
        "df['counter'] = df['text'].apply(tokenizer)\n",
        "\n",
        "#Token past the date token\n",
        "df['counter'] = df['text'].apply(lambda x: x[2: ])\n",
        "\n",
        "#Past the date token\n",
        "df['counter'] = df['counter']. apply(Counter)"
      ],
      "execution_count": 0,
      "outputs": []
    },
    {
      "cell_type": "code",
      "metadata": {
        "id": "Z-SjjVpgozSA",
        "colab_type": "code",
        "outputId": "f65b82a9-0bf8-43a5-fe63-6c3fbfda7451",
        "colab": {
          "base_uri": "https://localhost:8080/",
          "height": 289
        }
      },
      "source": [
        "df.head()"
      ],
      "execution_count": 11,
      "outputs": [
        {
          "output_type": "execute_result",
          "data": {
            "text/html": [
              "<div>\n",
              "<style scoped>\n",
              "    .dataframe tbody tr th:only-of-type {\n",
              "        vertical-align: middle;\n",
              "    }\n",
              "\n",
              "    .dataframe tbody tr th {\n",
              "        vertical-align: top;\n",
              "    }\n",
              "\n",
              "    .dataframe thead th {\n",
              "        text-align: right;\n",
              "    }\n",
              "</style>\n",
              "<table border=\"1\" class=\"dataframe\">\n",
              "  <thead>\n",
              "    <tr style=\"text-align: right;\">\n",
              "      <th></th>\n",
              "      <th>shop</th>\n",
              "      <th>text</th>\n",
              "      <th>rating</th>\n",
              "      <th>date</th>\n",
              "      <th>counter</th>\n",
              "    </tr>\n",
              "  </thead>\n",
              "  <tbody>\n",
              "    <tr>\n",
              "      <th>0</th>\n",
              "      <td>The Factory - Cafe With a Soul</td>\n",
              "      <td>11/25/2016 1 check-in Love love loved the atm...</td>\n",
              "      <td>5</td>\n",
              "      <td>2016-11-25</td>\n",
              "      <td>{'1': 3, '/': 2, '2': 2, '5': 1, '0': 1, '6': ...</td>\n",
              "    </tr>\n",
              "    <tr>\n",
              "      <th>1</th>\n",
              "      <td>The Factory - Cafe With a Soul</td>\n",
              "      <td>12/2/2016 Listed in Date Night: Austin, Ambia...</td>\n",
              "      <td>4</td>\n",
              "      <td>2016-12-02</td>\n",
              "      <td>{'2': 3, '/': 2, '0': 1, '1': 1, '6': 1, ' ': ...</td>\n",
              "    </tr>\n",
              "    <tr>\n",
              "      <th>2</th>\n",
              "      <td>The Factory - Cafe With a Soul</td>\n",
              "      <td>11/30/2016 1 check-in Listed in Brunch Spots ...</td>\n",
              "      <td>4</td>\n",
              "      <td>2016-11-30</td>\n",
              "      <td>{'1': 3, '/': 2, '3': 1, '0': 2, '2': 1, '6': ...</td>\n",
              "    </tr>\n",
              "    <tr>\n",
              "      <th>3</th>\n",
              "      <td>The Factory - Cafe With a Soul</td>\n",
              "      <td>11/25/2016 Very cool decor! Good drinks Nice ...</td>\n",
              "      <td>2</td>\n",
              "      <td>2016-11-25</td>\n",
              "      <td>{'1': 3, '/': 2, '2': 2, '5': 2, '0': 2, '6': ...</td>\n",
              "    </tr>\n",
              "    <tr>\n",
              "      <th>4</th>\n",
              "      <td>The Factory - Cafe With a Soul</td>\n",
              "      <td>12/3/2016 1 check-in They are located within ...</td>\n",
              "      <td>4</td>\n",
              "      <td>2016-12-03</td>\n",
              "      <td>{'2': 2, '/': 2, '3': 1, '0': 1, '1': 2, '6': ...</td>\n",
              "    </tr>\n",
              "  </tbody>\n",
              "</table>\n",
              "</div>"
            ],
            "text/plain": [
              "                              shop  ...                                            counter\n",
              "0  The Factory - Cafe With a Soul   ...  {'1': 3, '/': 2, '2': 2, '5': 1, '0': 1, '6': ...\n",
              "1  The Factory - Cafe With a Soul   ...  {'2': 3, '/': 2, '0': 1, '1': 1, '6': 1, ' ': ...\n",
              "2  The Factory - Cafe With a Soul   ...  {'1': 3, '/': 2, '3': 1, '0': 2, '2': 1, '6': ...\n",
              "3  The Factory - Cafe With a Soul   ...  {'1': 3, '/': 2, '2': 2, '5': 2, '0': 2, '6': ...\n",
              "4  The Factory - Cafe With a Soul   ...  {'2': 2, '/': 2, '3': 1, '0': 1, '1': 2, '6': ...\n",
              "\n",
              "[5 rows x 5 columns]"
            ]
          },
          "metadata": {
            "tags": []
          },
          "execution_count": 11
        }
      ]
    },
    {
      "cell_type": "code",
      "metadata": {
        "id": "Kz0xDGIcYqkH",
        "colab_type": "code",
        "colab": {}
      },
      "source": [
        "#CLEAN DATA\n",
        "#remove whitespace\n",
        "df['shop'] = df['shop'].str.strip().str.lower()\n",
        "df['text'] = df['text'].str.strip().str.lower()\n",
        "\n",
        "#Start with date\n",
        "df['text'].str.match('\\d?\\d/\\d?\\d/\\d{4}').all()\n",
        "\n",
        "df['text'] = df['text'].str.replace('[^a-zA-Z\\s]', '').str.replace('\\s+', ' ')"
      ],
      "execution_count": 0,
      "outputs": []
    },
    {
      "cell_type": "markdown",
      "metadata": {
        "id": "eJQiD2ZOnnkY",
        "colab_type": "text"
      },
      "source": [
        "## How do we want to analyze these coffee shop tokens? \n",
        "\n",
        "- Overall Word / Token Count\n",
        "- View Counts by Rating \n",
        "- *Hint:* a 'bad' coffee shops has a rating betweeen 1 & 3 based on the distribution of ratings. A 'good' coffee shop is a 4 or 5. "
      ]
    },
    {
      "cell_type": "code",
      "metadata": {
        "id": "SJm-kuRrrO1F",
        "colab_type": "code",
        "outputId": "71fa2c23-bdc8-4d6d-94ae-50f08d26b472",
        "colab": {
          "base_uri": "https://localhost:8080/",
          "height": 136
        }
      },
      "source": [
        "#Overall Word / Token Count\n",
        "howmanywords = df['counter'].sum()\n",
        "\n",
        "howmanywords.most_common(7)\n",
        "\n",
        "#View Counts by Rating\n",
        "#  'bad' coffee shops has a rating betweeen 1 & 3 based on the distribution of ratings. \n",
        "#  'good' coffee shop is a 4 or 5.\n",
        "\n",
        "bad = df[df['rating'] <= 3 ]\n",
        "good = df[df['rating'] >= 4 ]\n",
        "\n",
        "#assert len(df) == len(bad) + len(good)\n",
        "\n",
        "#reviews score\n",
        "wordsbad = bad['counter'].sum()\n",
        "wordsgood = good['counter'].sum()\n",
        "\n",
        "#Good Review\n",
        "wordsgood.most_common(7)\n",
        "\n",
        "#Bad Review \n",
        "wordsbad.most_common(7)"
      ],
      "execution_count": 13,
      "outputs": [
        {
          "output_type": "execute_result",
          "data": {
            "text/plain": [
              "[(' ', 184702),\n",
              " ('e', 94702),\n",
              " ('t', 68652),\n",
              " ('a', 59363),\n",
              " ('o', 58402),\n",
              " ('i', 46617),\n",
              " ('n', 45174)]"
            ]
          },
          "metadata": {
            "tags": []
          },
          "execution_count": 13
        }
      ]
    },
    {
      "cell_type": "code",
      "metadata": {
        "id": "BrBuWM2Yr09X",
        "colab_type": "code",
        "outputId": "4ed4f584-6eed-4e5a-ebb3-1315aaf22099",
        "colab": {
          "base_uri": "https://localhost:8080/",
          "height": 68
        }
      },
      "source": [
        "good['rating'].value_counts(normalize=True)[:10]"
      ],
      "execution_count": 14,
      "outputs": [
        {
          "output_type": "execute_result",
          "data": {
            "text/plain": [
              "5    0.615635\n",
              "4    0.384365\n",
              "Name: rating, dtype: float64"
            ]
          },
          "metadata": {
            "tags": []
          },
          "execution_count": 14
        }
      ]
    },
    {
      "cell_type": "code",
      "metadata": {
        "id": "TkR2HI6vr2fb",
        "colab_type": "code",
        "outputId": "716d949e-d82b-4577-df7d-d4b3ad531859",
        "colab": {
          "base_uri": "https://localhost:8080/",
          "height": 85
        }
      },
      "source": [
        "bad['rating'].value_counts(normalize=True)[:10]"
      ],
      "execution_count": 15,
      "outputs": [
        {
          "output_type": "execute_result",
          "data": {
            "text/plain": [
              "3    0.500000\n",
              "2    0.311653\n",
              "1    0.188347\n",
              "Name: rating, dtype: float64"
            ]
          },
          "metadata": {
            "tags": []
          },
          "execution_count": 15
        }
      ]
    },
    {
      "cell_type": "markdown",
      "metadata": {
        "id": "Vk5NHu34sPC1",
        "colab_type": "text"
      },
      "source": [
        "#Token"
      ]
    },
    {
      "cell_type": "code",
      "metadata": {
        "id": "qOOMRGx6WUUN",
        "colab_type": "code",
        "outputId": "229fd28d-c7af-4530-af06-eeafb4b24314",
        "colab": {
          "base_uri": "https://localhost:8080/",
          "height": 289
        }
      },
      "source": [
        "import spacy\n",
        "import re\n",
        "\n",
        "nlp = spacy.load(\"en_core_web_sm\")\n",
        "\n",
        "lemmas = []\n",
        "\n",
        "for doc in nlp.pipe(df['text'], batch_size=500):\n",
        "     \n",
        "    lems = []\n",
        "\n",
        "    for token in doc:\n",
        "          if ((token.is_stop == False) and (token.is_punct == False)) and (token.pos_ != 'PRON'):\n",
        "            lems.append(token.lemma_)\n",
        "\n",
        "    lemmas.append(lems)\n",
        "\n",
        "assert len(lemmas) ==  df.shape[0]\n",
        "\n",
        "df['lemmas'] = lemmas\n",
        "df.head()"
      ],
      "execution_count": 16,
      "outputs": [
        {
          "output_type": "execute_result",
          "data": {
            "text/html": [
              "<div>\n",
              "<style scoped>\n",
              "    .dataframe tbody tr th:only-of-type {\n",
              "        vertical-align: middle;\n",
              "    }\n",
              "\n",
              "    .dataframe tbody tr th {\n",
              "        vertical-align: top;\n",
              "    }\n",
              "\n",
              "    .dataframe thead th {\n",
              "        text-align: right;\n",
              "    }\n",
              "</style>\n",
              "<table border=\"1\" class=\"dataframe\">\n",
              "  <thead>\n",
              "    <tr style=\"text-align: right;\">\n",
              "      <th></th>\n",
              "      <th>shop</th>\n",
              "      <th>text</th>\n",
              "      <th>rating</th>\n",
              "      <th>date</th>\n",
              "      <th>counter</th>\n",
              "      <th>lemmas</th>\n",
              "    </tr>\n",
              "  </thead>\n",
              "  <tbody>\n",
              "    <tr>\n",
              "      <th>0</th>\n",
              "      <td>the factory - cafe with a soul</td>\n",
              "      <td>checkin love love loved the atmosphere every ...</td>\n",
              "      <td>5</td>\n",
              "      <td>2016-11-25</td>\n",
              "      <td>{'1': 3, '/': 2, '2': 2, '5': 1, '0': 1, '6': ...</td>\n",
              "      <td>[ , checkin, love, love, love, atmosphere, cor...</td>\n",
              "    </tr>\n",
              "    <tr>\n",
              "      <th>1</th>\n",
              "      <td>the factory - cafe with a soul</td>\n",
              "      <td>listed in date night austin ambiance in austi...</td>\n",
              "      <td>4</td>\n",
              "      <td>2016-12-02</td>\n",
              "      <td>{'2': 3, '/': 2, '0': 1, '1': 1, '6': 1, ' ': ...</td>\n",
              "      <td>[ , list, date, night, austin, ambiance, austi...</td>\n",
              "    </tr>\n",
              "    <tr>\n",
              "      <th>2</th>\n",
              "      <td>the factory - cafe with a soul</td>\n",
              "      <td>checkin listed in brunch spots i loved the ec...</td>\n",
              "      <td>4</td>\n",
              "      <td>2016-11-30</td>\n",
              "      <td>{'1': 3, '/': 2, '3': 1, '0': 2, '2': 1, '6': ...</td>\n",
              "      <td>[ , checkin, list, brunch, spot, love, eclecti...</td>\n",
              "    </tr>\n",
              "    <tr>\n",
              "      <th>3</th>\n",
              "      <td>the factory - cafe with a soul</td>\n",
              "      <td>very cool decor good drinks nice seating howe...</td>\n",
              "      <td>2</td>\n",
              "      <td>2016-11-25</td>\n",
              "      <td>{'1': 3, '/': 2, '2': 2, '5': 2, '0': 2, '6': ...</td>\n",
              "      <td>[ , cool, decor, good, drink, nice, seating, o...</td>\n",
              "    </tr>\n",
              "    <tr>\n",
              "      <th>4</th>\n",
              "      <td>the factory - cafe with a soul</td>\n",
              "      <td>checkin they are located within the northcros...</td>\n",
              "      <td>4</td>\n",
              "      <td>2016-12-03</td>\n",
              "      <td>{'2': 2, '/': 2, '3': 1, '0': 1, '1': 2, '6': ...</td>\n",
              "      <td>[ , checkin, locate, northcross, mall, shoppin...</td>\n",
              "    </tr>\n",
              "  </tbody>\n",
              "</table>\n",
              "</div>"
            ],
            "text/plain": [
              "                             shop  ...                                             lemmas\n",
              "0  the factory - cafe with a soul  ...  [ , checkin, love, love, love, atmosphere, cor...\n",
              "1  the factory - cafe with a soul  ...  [ , list, date, night, austin, ambiance, austi...\n",
              "2  the factory - cafe with a soul  ...  [ , checkin, list, brunch, spot, love, eclecti...\n",
              "3  the factory - cafe with a soul  ...  [ , cool, decor, good, drink, nice, seating, o...\n",
              "4  the factory - cafe with a soul  ...  [ , checkin, locate, northcross, mall, shoppin...\n",
              "\n",
              "[5 rows x 6 columns]"
            ]
          },
          "metadata": {
            "tags": []
          },
          "execution_count": 16
        }
      ]
    },
    {
      "cell_type": "code",
      "metadata": {
        "id": "U7EgfCBxZOfG",
        "colab_type": "code",
        "outputId": "486f4a76-fac6-4a3f-b900-8341b36b46ae",
        "colab": {
          "base_uri": "https://localhost:8080/",
          "height": 119
        }
      },
      "source": [
        "df['rating'].value_counts() "
      ],
      "execution_count": 17,
      "outputs": [
        {
          "output_type": "execute_result",
          "data": {
            "text/plain": [
              "5    3780\n",
              "4    2360\n",
              "3     738\n",
              "2     460\n",
              "1     278\n",
              "Name: rating, dtype: int64"
            ]
          },
          "metadata": {
            "tags": []
          },
          "execution_count": 17
        }
      ]
    },
    {
      "cell_type": "code",
      "metadata": {
        "id": "ZGeLvgW1ZgNA",
        "colab_type": "code",
        "outputId": "2b3cf28f-3360-44bb-ade8-e223f26d1d40",
        "colab": {
          "base_uri": "https://localhost:8080/",
          "height": 119
        }
      },
      "source": [
        "df['rating'].value_counts(normalize=True)[:50]"
      ],
      "execution_count": 18,
      "outputs": [
        {
          "output_type": "execute_result",
          "data": {
            "text/plain": [
              "5    0.496324\n",
              "4    0.309874\n",
              "3    0.096901\n",
              "2    0.060399\n",
              "1    0.036502\n",
              "Name: rating, dtype: float64"
            ]
          },
          "metadata": {
            "tags": []
          },
          "execution_count": 18
        }
      ]
    },
    {
      "cell_type": "code",
      "metadata": {
        "id": "AQktDbC0bIMG",
        "colab_type": "code",
        "colab": {}
      },
      "source": [
        "from collections import Counter\n",
        "\n",
        "def count(docs):\n",
        "\n",
        "    wordsCounts = Counter()\n",
        "    appearIn = Counter()\n",
        "\n",
        "    TotalDoc = len(docs)\n",
        "\n",
        "    for doc in docs:\n",
        "        wordsCounts.update(doc)\n",
        "        appearIn.update(set(doc))\n",
        "    temp = zip(wordsCounts.keys(), wordsCounts.values())\n",
        "\n",
        "    wc = pd.DataFrame(temp, columns= ['word', 'count'])\n",
        "    wc['rank'] = wc['count'].rank(method='first', ascending=False)\n",
        "    total = wc['count'].sum()\n",
        "\n",
        "    wc['ptg_total'] = wc['count'].apply(lambda x: x / total)\n",
        "\n",
        "    wc = wc.sort_values(by='rank')\n",
        "    wc['cum_ptg_total'] = wc['ptg_total'].cumsum()\n",
        "\n",
        "    total = zip(appearIn.keys(), appearIn.values())\n",
        "    accumul = pd.DataFrame(total, columns=['word', 'appearIn'])\n",
        "    wc = accumul.merge(wc, on='word')\n",
        "\n",
        "    wc['appearIn_ptg'] = wc['appearIn'].apply(lambda x: x / TotalDoc)\n",
        "\n",
        "    return wc.sort_values(by='rank')"
      ],
      "execution_count": 0,
      "outputs": []
    },
    {
      "cell_type": "code",
      "metadata": {
        "id": "55TNPY8MbdCo",
        "colab_type": "code",
        "outputId": "4695a02f-976d-4e49-bf29-5d137304a602",
        "colab": {
          "base_uri": "https://localhost:8080/",
          "height": 359
        }
      },
      "source": [
        "wc = count(df['lemmas'])\n",
        "wc.head(10)"
      ],
      "execution_count": 20,
      "outputs": [
        {
          "output_type": "execute_result",
          "data": {
            "text/html": [
              "<div>\n",
              "<style scoped>\n",
              "    .dataframe tbody tr th:only-of-type {\n",
              "        vertical-align: middle;\n",
              "    }\n",
              "\n",
              "    .dataframe tbody tr th {\n",
              "        vertical-align: top;\n",
              "    }\n",
              "\n",
              "    .dataframe thead th {\n",
              "        text-align: right;\n",
              "    }\n",
              "</style>\n",
              "<table border=\"1\" class=\"dataframe\">\n",
              "  <thead>\n",
              "    <tr style=\"text-align: right;\">\n",
              "      <th></th>\n",
              "      <th>word</th>\n",
              "      <th>appearIn</th>\n",
              "      <th>count</th>\n",
              "      <th>rank</th>\n",
              "      <th>ptg_total</th>\n",
              "      <th>cum_ptg_total</th>\n",
              "      <th>appearIn_ptg</th>\n",
              "    </tr>\n",
              "  </thead>\n",
              "  <tbody>\n",
              "    <tr>\n",
              "      <th>0</th>\n",
              "      <td>coffee</td>\n",
              "      <td>4924</td>\n",
              "      <td>10586</td>\n",
              "      <td>1.0</td>\n",
              "      <td>0.028815</td>\n",
              "      <td>0.028815</td>\n",
              "      <td>0.646534</td>\n",
              "    </tr>\n",
              "    <tr>\n",
              "      <th>23</th>\n",
              "      <td></td>\n",
              "      <td>7616</td>\n",
              "      <td>7616</td>\n",
              "      <td>2.0</td>\n",
              "      <td>0.020731</td>\n",
              "      <td>0.049546</td>\n",
              "      <td>1.000000</td>\n",
              "    </tr>\n",
              "    <tr>\n",
              "      <th>93</th>\n",
              "      <td>place</td>\n",
              "      <td>3888</td>\n",
              "      <td>6044</td>\n",
              "      <td>3.0</td>\n",
              "      <td>0.016452</td>\n",
              "      <td>0.065997</td>\n",
              "      <td>0.510504</td>\n",
              "    </tr>\n",
              "    <tr>\n",
              "      <th>147</th>\n",
              "      <td>good</td>\n",
              "      <td>3566</td>\n",
              "      <td>5336</td>\n",
              "      <td>4.0</td>\n",
              "      <td>0.014525</td>\n",
              "      <td>0.080522</td>\n",
              "      <td>0.468225</td>\n",
              "    </tr>\n",
              "    <tr>\n",
              "      <th>59</th>\n",
              "      <td>not</td>\n",
              "      <td>3055</td>\n",
              "      <td>5175</td>\n",
              "      <td>5.0</td>\n",
              "      <td>0.014086</td>\n",
              "      <td>0.094608</td>\n",
              "      <td>0.401129</td>\n",
              "    </tr>\n",
              "    <tr>\n",
              "      <th>80</th>\n",
              "      <td>great</td>\n",
              "      <td>2853</td>\n",
              "      <td>3946</td>\n",
              "      <td>6.0</td>\n",
              "      <td>0.010741</td>\n",
              "      <td>0.105349</td>\n",
              "      <td>0.374606</td>\n",
              "    </tr>\n",
              "    <tr>\n",
              "      <th>153</th>\n",
              "      <td>like</td>\n",
              "      <td>2260</td>\n",
              "      <td>3350</td>\n",
              "      <td>7.0</td>\n",
              "      <td>0.009119</td>\n",
              "      <td>0.114468</td>\n",
              "      <td>0.296744</td>\n",
              "    </tr>\n",
              "    <tr>\n",
              "      <th>18</th>\n",
              "      <td>checkin</td>\n",
              "      <td>2969</td>\n",
              "      <td>2985</td>\n",
              "      <td>8.0</td>\n",
              "      <td>0.008125</td>\n",
              "      <td>0.122593</td>\n",
              "      <td>0.389837</td>\n",
              "    </tr>\n",
              "    <tr>\n",
              "      <th>399</th>\n",
              "      <td>come</td>\n",
              "      <td>1934</td>\n",
              "      <td>2635</td>\n",
              "      <td>9.0</td>\n",
              "      <td>0.007172</td>\n",
              "      <td>0.129766</td>\n",
              "      <td>0.253939</td>\n",
              "    </tr>\n",
              "    <tr>\n",
              "      <th>12</th>\n",
              "      <td>love</td>\n",
              "      <td>1819</td>\n",
              "      <td>2375</td>\n",
              "      <td>10.0</td>\n",
              "      <td>0.006465</td>\n",
              "      <td>0.136230</td>\n",
              "      <td>0.238839</td>\n",
              "    </tr>\n",
              "  </tbody>\n",
              "</table>\n",
              "</div>"
            ],
            "text/plain": [
              "        word  appearIn  count  rank  ptg_total  cum_ptg_total  appearIn_ptg\n",
              "0     coffee      4924  10586   1.0   0.028815       0.028815      0.646534\n",
              "23                7616   7616   2.0   0.020731       0.049546      1.000000\n",
              "93     place      3888   6044   3.0   0.016452       0.065997      0.510504\n",
              "147     good      3566   5336   4.0   0.014525       0.080522      0.468225\n",
              "59       not      3055   5175   5.0   0.014086       0.094608      0.401129\n",
              "80     great      2853   3946   6.0   0.010741       0.105349      0.374606\n",
              "153     like      2260   3350   7.0   0.009119       0.114468      0.296744\n",
              "18   checkin      2969   2985   8.0   0.008125       0.122593      0.389837\n",
              "399     come      1934   2635   9.0   0.007172       0.129766      0.253939\n",
              "12      love      1819   2375  10.0   0.006465       0.136230      0.238839"
            ]
          },
          "metadata": {
            "tags": []
          },
          "execution_count": 20
        }
      ]
    },
    {
      "cell_type": "code",
      "metadata": {
        "id": "VDVgTn7mg5Fb",
        "colab_type": "code",
        "colab": {}
      },
      "source": [
        "df['good'] = df['rating'] >= 4 \n",
        "df['bad'] = df['rating'] <= 3 "
      ],
      "execution_count": 0,
      "outputs": []
    },
    {
      "cell_type": "code",
      "metadata": {
        "id": "vdHuiuD7hp2G",
        "colab_type": "code",
        "outputId": "9e86606f-6590-4569-ad39-8f052a6b48bd",
        "colab": {
          "base_uri": "https://localhost:8080/",
          "height": 374
        }
      },
      "source": [
        "df.head()"
      ],
      "execution_count": 22,
      "outputs": [
        {
          "output_type": "execute_result",
          "data": {
            "text/html": [
              "<div>\n",
              "<style scoped>\n",
              "    .dataframe tbody tr th:only-of-type {\n",
              "        vertical-align: middle;\n",
              "    }\n",
              "\n",
              "    .dataframe tbody tr th {\n",
              "        vertical-align: top;\n",
              "    }\n",
              "\n",
              "    .dataframe thead th {\n",
              "        text-align: right;\n",
              "    }\n",
              "</style>\n",
              "<table border=\"1\" class=\"dataframe\">\n",
              "  <thead>\n",
              "    <tr style=\"text-align: right;\">\n",
              "      <th></th>\n",
              "      <th>shop</th>\n",
              "      <th>text</th>\n",
              "      <th>rating</th>\n",
              "      <th>date</th>\n",
              "      <th>counter</th>\n",
              "      <th>lemmas</th>\n",
              "      <th>good</th>\n",
              "      <th>bad</th>\n",
              "    </tr>\n",
              "  </thead>\n",
              "  <tbody>\n",
              "    <tr>\n",
              "      <th>0</th>\n",
              "      <td>the factory - cafe with a soul</td>\n",
              "      <td>checkin love love loved the atmosphere every ...</td>\n",
              "      <td>5</td>\n",
              "      <td>2016-11-25</td>\n",
              "      <td>{'1': 3, '/': 2, '2': 2, '5': 1, '0': 1, '6': ...</td>\n",
              "      <td>[ , checkin, love, love, love, atmosphere, cor...</td>\n",
              "      <td>True</td>\n",
              "      <td>False</td>\n",
              "    </tr>\n",
              "    <tr>\n",
              "      <th>1</th>\n",
              "      <td>the factory - cafe with a soul</td>\n",
              "      <td>listed in date night austin ambiance in austi...</td>\n",
              "      <td>4</td>\n",
              "      <td>2016-12-02</td>\n",
              "      <td>{'2': 3, '/': 2, '0': 1, '1': 1, '6': 1, ' ': ...</td>\n",
              "      <td>[ , list, date, night, austin, ambiance, austi...</td>\n",
              "      <td>True</td>\n",
              "      <td>False</td>\n",
              "    </tr>\n",
              "    <tr>\n",
              "      <th>2</th>\n",
              "      <td>the factory - cafe with a soul</td>\n",
              "      <td>checkin listed in brunch spots i loved the ec...</td>\n",
              "      <td>4</td>\n",
              "      <td>2016-11-30</td>\n",
              "      <td>{'1': 3, '/': 2, '3': 1, '0': 2, '2': 1, '6': ...</td>\n",
              "      <td>[ , checkin, list, brunch, spot, love, eclecti...</td>\n",
              "      <td>True</td>\n",
              "      <td>False</td>\n",
              "    </tr>\n",
              "    <tr>\n",
              "      <th>3</th>\n",
              "      <td>the factory - cafe with a soul</td>\n",
              "      <td>very cool decor good drinks nice seating howe...</td>\n",
              "      <td>2</td>\n",
              "      <td>2016-11-25</td>\n",
              "      <td>{'1': 3, '/': 2, '2': 2, '5': 2, '0': 2, '6': ...</td>\n",
              "      <td>[ , cool, decor, good, drink, nice, seating, o...</td>\n",
              "      <td>False</td>\n",
              "      <td>True</td>\n",
              "    </tr>\n",
              "    <tr>\n",
              "      <th>4</th>\n",
              "      <td>the factory - cafe with a soul</td>\n",
              "      <td>checkin they are located within the northcros...</td>\n",
              "      <td>4</td>\n",
              "      <td>2016-12-03</td>\n",
              "      <td>{'2': 2, '/': 2, '3': 1, '0': 1, '1': 2, '6': ...</td>\n",
              "      <td>[ , checkin, locate, northcross, mall, shoppin...</td>\n",
              "      <td>True</td>\n",
              "      <td>False</td>\n",
              "    </tr>\n",
              "  </tbody>\n",
              "</table>\n",
              "</div>"
            ],
            "text/plain": [
              "                             shop  ...    bad\n",
              "0  the factory - cafe with a soul  ...  False\n",
              "1  the factory - cafe with a soul  ...  False\n",
              "2  the factory - cafe with a soul  ...  False\n",
              "3  the factory - cafe with a soul  ...   True\n",
              "4  the factory - cafe with a soul  ...  False\n",
              "\n",
              "[5 rows x 8 columns]"
            ]
          },
          "metadata": {
            "tags": []
          },
          "execution_count": 22
        }
      ]
    },
    {
      "cell_type": "code",
      "metadata": {
        "id": "dU1r8s_xhwdt",
        "colab_type": "code",
        "colab": {}
      },
      "source": [
        "#reviews score\n",
        "wordsbad = count(df[~df['good']]['lemmas'])\n",
        "wordsgood = count(df[df['good']]['lemmas'])"
      ],
      "execution_count": 0,
      "outputs": []
    },
    {
      "cell_type": "code",
      "metadata": {
        "id": "3Ry7QV7UiZ2j",
        "colab_type": "code",
        "outputId": "d3623aaf-15d7-4c6d-a71c-f4debea7a01a",
        "colab": {
          "base_uri": "https://localhost:8080/",
          "height": 204
        }
      },
      "source": [
        "wordsbad.head()"
      ],
      "execution_count": 24,
      "outputs": [
        {
          "output_type": "execute_result",
          "data": {
            "text/html": [
              "<div>\n",
              "<style scoped>\n",
              "    .dataframe tbody tr th:only-of-type {\n",
              "        vertical-align: middle;\n",
              "    }\n",
              "\n",
              "    .dataframe tbody tr th {\n",
              "        vertical-align: top;\n",
              "    }\n",
              "\n",
              "    .dataframe thead th {\n",
              "        text-align: right;\n",
              "    }\n",
              "</style>\n",
              "<table border=\"1\" class=\"dataframe\">\n",
              "  <thead>\n",
              "    <tr style=\"text-align: right;\">\n",
              "      <th></th>\n",
              "      <th>word</th>\n",
              "      <th>appearIn</th>\n",
              "      <th>count</th>\n",
              "      <th>rank</th>\n",
              "      <th>ptg_total</th>\n",
              "      <th>cum_ptg_total</th>\n",
              "      <th>appearIn_ptg</th>\n",
              "    </tr>\n",
              "  </thead>\n",
              "  <tbody>\n",
              "    <tr>\n",
              "      <th>4</th>\n",
              "      <td>coffee</td>\n",
              "      <td>948</td>\n",
              "      <td>2171</td>\n",
              "      <td>1.0</td>\n",
              "      <td>0.026958</td>\n",
              "      <td>0.026958</td>\n",
              "      <td>0.642276</td>\n",
              "    </tr>\n",
              "    <tr>\n",
              "      <th>42</th>\n",
              "      <td>not</td>\n",
              "      <td>868</td>\n",
              "      <td>1706</td>\n",
              "      <td>2.0</td>\n",
              "      <td>0.021184</td>\n",
              "      <td>0.048142</td>\n",
              "      <td>0.588076</td>\n",
              "    </tr>\n",
              "    <tr>\n",
              "      <th>26</th>\n",
              "      <td></td>\n",
              "      <td>1476</td>\n",
              "      <td>1476</td>\n",
              "      <td>3.0</td>\n",
              "      <td>0.018328</td>\n",
              "      <td>0.066470</td>\n",
              "      <td>1.000000</td>\n",
              "    </tr>\n",
              "    <tr>\n",
              "      <th>24</th>\n",
              "      <td>place</td>\n",
              "      <td>755</td>\n",
              "      <td>1228</td>\n",
              "      <td>4.0</td>\n",
              "      <td>0.015249</td>\n",
              "      <td>0.081719</td>\n",
              "      <td>0.511518</td>\n",
              "    </tr>\n",
              "    <tr>\n",
              "      <th>15</th>\n",
              "      <td>good</td>\n",
              "      <td>645</td>\n",
              "      <td>995</td>\n",
              "      <td>5.0</td>\n",
              "      <td>0.012355</td>\n",
              "      <td>0.094074</td>\n",
              "      <td>0.436992</td>\n",
              "    </tr>\n",
              "  </tbody>\n",
              "</table>\n",
              "</div>"
            ],
            "text/plain": [
              "      word  appearIn  count  rank  ptg_total  cum_ptg_total  appearIn_ptg\n",
              "4   coffee       948   2171   1.0   0.026958       0.026958      0.642276\n",
              "42     not       868   1706   2.0   0.021184       0.048142      0.588076\n",
              "26              1476   1476   3.0   0.018328       0.066470      1.000000\n",
              "24   place       755   1228   4.0   0.015249       0.081719      0.511518\n",
              "15    good       645    995   5.0   0.012355       0.094074      0.436992"
            ]
          },
          "metadata": {
            "tags": []
          },
          "execution_count": 24
        }
      ]
    },
    {
      "cell_type": "code",
      "metadata": {
        "id": "FiXG_KDiifRo",
        "colab_type": "code",
        "outputId": "dd145fbf-692c-4711-adb4-c3200e00583f",
        "colab": {
          "base_uri": "https://localhost:8080/",
          "height": 204
        }
      },
      "source": [
        "wordsgood.head()"
      ],
      "execution_count": 25,
      "outputs": [
        {
          "output_type": "execute_result",
          "data": {
            "text/html": [
              "<div>\n",
              "<style scoped>\n",
              "    .dataframe tbody tr th:only-of-type {\n",
              "        vertical-align: middle;\n",
              "    }\n",
              "\n",
              "    .dataframe tbody tr th {\n",
              "        vertical-align: top;\n",
              "    }\n",
              "\n",
              "    .dataframe thead th {\n",
              "        text-align: right;\n",
              "    }\n",
              "</style>\n",
              "<table border=\"1\" class=\"dataframe\">\n",
              "  <thead>\n",
              "    <tr style=\"text-align: right;\">\n",
              "      <th></th>\n",
              "      <th>word</th>\n",
              "      <th>appearIn</th>\n",
              "      <th>count</th>\n",
              "      <th>rank</th>\n",
              "      <th>ptg_total</th>\n",
              "      <th>cum_ptg_total</th>\n",
              "      <th>appearIn_ptg</th>\n",
              "    </tr>\n",
              "  </thead>\n",
              "  <tbody>\n",
              "    <tr>\n",
              "      <th>0</th>\n",
              "      <td>coffee</td>\n",
              "      <td>3976</td>\n",
              "      <td>8415</td>\n",
              "      <td>1.0</td>\n",
              "      <td>0.029336</td>\n",
              "      <td>0.029336</td>\n",
              "      <td>0.647557</td>\n",
              "    </tr>\n",
              "    <tr>\n",
              "      <th>23</th>\n",
              "      <td></td>\n",
              "      <td>6140</td>\n",
              "      <td>6140</td>\n",
              "      <td>2.0</td>\n",
              "      <td>0.021405</td>\n",
              "      <td>0.050742</td>\n",
              "      <td>1.000000</td>\n",
              "    </tr>\n",
              "    <tr>\n",
              "      <th>93</th>\n",
              "      <td>place</td>\n",
              "      <td>3133</td>\n",
              "      <td>4816</td>\n",
              "      <td>3.0</td>\n",
              "      <td>0.016789</td>\n",
              "      <td>0.067531</td>\n",
              "      <td>0.510261</td>\n",
              "    </tr>\n",
              "    <tr>\n",
              "      <th>175</th>\n",
              "      <td>good</td>\n",
              "      <td>2921</td>\n",
              "      <td>4341</td>\n",
              "      <td>4.0</td>\n",
              "      <td>0.015134</td>\n",
              "      <td>0.082665</td>\n",
              "      <td>0.475733</td>\n",
              "    </tr>\n",
              "    <tr>\n",
              "      <th>80</th>\n",
              "      <td>great</td>\n",
              "      <td>2505</td>\n",
              "      <td>3474</td>\n",
              "      <td>5.0</td>\n",
              "      <td>0.012111</td>\n",
              "      <td>0.094776</td>\n",
              "      <td>0.407980</td>\n",
              "    </tr>\n",
              "  </tbody>\n",
              "</table>\n",
              "</div>"
            ],
            "text/plain": [
              "       word  appearIn  count  rank  ptg_total  cum_ptg_total  appearIn_ptg\n",
              "0    coffee      3976   8415   1.0   0.029336       0.029336      0.647557\n",
              "23               6140   6140   2.0   0.021405       0.050742      1.000000\n",
              "93    place      3133   4816   3.0   0.016789       0.067531      0.510261\n",
              "175    good      2921   4341   4.0   0.015134       0.082665      0.475733\n",
              "80    great      2505   3474   5.0   0.012111       0.094776      0.407980"
            ]
          },
          "metadata": {
            "tags": []
          },
          "execution_count": 25
        }
      ]
    },
    {
      "cell_type": "markdown",
      "metadata": {
        "id": "l84_u27Unnkc",
        "colab_type": "text"
      },
      "source": [
        "## Can visualize the words with the greatest difference in counts between 'good' & 'bad'?\n",
        "\n",
        "Couple Notes: \n",
        "- Rel. freq. instead of absolute counts b/c of different numbers of reviews\n",
        "- Only look at the top 5-10 words with the greatest differences\n"
      ]
    },
    {
      "cell_type": "code",
      "metadata": {
        "id": "_uNRz90Ik0hK",
        "colab_type": "code",
        "outputId": "79d9cc2e-ff99-475c-c509-803eb99f84f6",
        "colab": {
          "base_uri": "https://localhost:8080/",
          "height": 85
        }
      },
      "source": [
        "!pip install squarify"
      ],
      "execution_count": 26,
      "outputs": [
        {
          "output_type": "stream",
          "text": [
            "Collecting squarify\n",
            "  Downloading https://files.pythonhosted.org/packages/0b/2b/2e77c35326efec19819cd1d729540d4d235e6c2a3f37658288a363a67da5/squarify-0.4.3-py3-none-any.whl\n",
            "Installing collected packages: squarify\n",
            "Successfully installed squarify-0.4.3\n"
          ],
          "name": "stdout"
        }
      ]
    },
    {
      "cell_type": "code",
      "metadata": {
        "id": "ttvkUpNokqFy",
        "colab_type": "code",
        "colab": {}
      },
      "source": [
        "import squarify\n",
        "import matplotlib.pyplot as plt"
      ],
      "execution_count": 0,
      "outputs": []
    },
    {
      "cell_type": "code",
      "metadata": {
        "id": "dJvLVMNP6sYq",
        "colab_type": "code",
        "outputId": "288a4499-8908-4eb7-871e-66a5f5e20be6",
        "colab": {
          "base_uri": "https://localhost:8080/",
          "height": 248
        }
      },
      "source": [
        "Goodbad = wordsgood[wordsgood['word'].isin(wordsbad['word'])]\n",
        "\n",
        "GB_top10 = Goodbad[:10]\n",
        "\n",
        "squarify.plot(sizes=GB_top10['ptg_total'], label=GB_top10['word'], alpha=.8)\n",
        "plt.axis('off')\n",
        "plt.show()"
      ],
      "execution_count": 31,
      "outputs": [
        {
          "output_type": "display_data",
          "data": {
            "image/png": "[encoded data removed]",
            "text/plain": [
              "<Figure size 432x288 with 1 Axes>"
            ]
          },
          "metadata": {
            "tags": []
          }
        }
      ]
    },
    {
      "cell_type": "markdown",
      "metadata": {
        "colab_type": "text",
        "id": "1dCb1q8XphcP",
        "toc-hr-collapsed": true
      },
      "source": [
        "## Stretch Goals\n",
        "\n",
        "* Analyze another corpus of documents - such as Indeed.com job listings ;).\n",
        "* Play with the Spacy API to\n",
        " - Extract Named Entities\n",
        " - Extracting 'noun chunks'\n",
        " - Attempt Document Classification with just Spacy\n",
        " - *Note:* This [course](https://course.spacy.io/) will be of interesting in helping you with these stretch goals. \n",
        "* Try to build a plotly dash app with your text data \n",
        "\n"
      ]
    }
  ]
}