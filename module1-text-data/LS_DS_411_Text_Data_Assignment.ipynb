{
 "cells": [
  {
   "cell_type": "markdown",
   "metadata": {},
   "source": [
    "<img align=\"left\" src=\"https://lever-client-logos.s3.amazonaws.com/864372b1-534c-480e-acd5-9711f850815c-1524247202159.png\" width=200>\n",
    "<br></br>\n",
    "<br></br>\n",
    "\n",
    "# Natural Language Processing (NLP)\n",
    "## *Data Science Unit 4 Sprint 1 Assignment 1*\n",
    "\n",
    "Your goal in this assignment: find the attributes of the best & worst coffee shops in the dataset. The text is fairly raw: dates in the review, extra words in the `star_rating` column, etc. You'll probably want to clean that stuff up for a better analysis. \n",
    "\n",
    "Analyze the corpus of text using text visualizations of token frequency. Try cleaning the data as much as possible. Try the following techniques: \n",
    "- Lemmatization\n",
    "- Custom stopword removal\n",
    "\n",
    "Keep in mind the attributes of good tokens. Once you have a solid baseline, layer in the star rating in your visualization(s). Key part of this assignment - produce a write-up of the attributes of the best and worst coffee shops. Based on your analysis, what makes the best the best and the worst the worst. Use graphs and numbesr from your analysis to support your conclusions. There should be plenty of markdown cells! :coffee:"
   ]
  },
  {
   "cell_type": "code",
   "execution_count": 8,
   "metadata": {},
   "outputs": [
    {
     "data": {
      "image/jpeg": "[encoded data removed]",
      "text/html": [
       "\n",
       "        <iframe\n",
       "            width=\"400\"\n",
       "            height=\"300\"\n",
       "            src=\"https://www.youtube.com/embed/Jml7NVYm8cs\"\n",
       "            frameborder=\"0\"\n",
       "            allowfullscreen\n",
       "        ></iframe>\n",
       "        "
      ],
      "text/plain": [
       "<IPython.lib.display.YouTubeVideo at 0x1dfa86a8940>"
      ]
     },
     "execution_count": 8,
     "metadata": {},
     "output_type": "execute_result"
    }
   ],
   "source": [
    "from IPython.display import YouTubeVideo\n",
    "\n",
    "YouTubeVideo('Jml7NVYm8cs')"
   ]
  },
  {
   "cell_type": "code",
   "execution_count": 9,
   "metadata": {},
   "outputs": [
    {
     "data": {
      "text/plain": [
       "'C:\\\\Users\\\\HomePC\\\\DS-Unit-4-Sprint-1-NLP\\\\module1-text-data'"
      ]
     },
     "execution_count": 9,
     "metadata": {},
     "output_type": "execute_result"
    }
   ],
   "source": [
    "%pwd"
   ]
  },
  {
   "cell_type": "code",
   "execution_count": 10,
   "metadata": {},
   "outputs": [
    {
     "data": {
      "text/html": [
       "<div>\n",
       "<style scoped>\n",
       "    .dataframe tbody tr th:only-of-type {\n",
       "        vertical-align: middle;\n",
       "    }\n",
       "\n",
       "    .dataframe tbody tr th {\n",
       "        vertical-align: top;\n",
       "    }\n",
       "\n",
       "    .dataframe thead th {\n",
       "        text-align: right;\n",
       "    }\n",
       "</style>\n",
       "<table border=\"1\" class=\"dataframe\">\n",
       "  <thead>\n",
       "    <tr style=\"text-align: right;\">\n",
       "      <th></th>\n",
       "      <th>coffee_shop_name</th>\n",
       "      <th>full_review_text</th>\n",
       "      <th>star_rating</th>\n",
       "    </tr>\n",
       "  </thead>\n",
       "  <tbody>\n",
       "    <tr>\n",
       "      <th>0</th>\n",
       "      <td>The Factory - Cafe With a Soul</td>\n",
       "      <td>11/25/2016 1 check-in Love love loved the atm...</td>\n",
       "      <td>5.0 star rating</td>\n",
       "    </tr>\n",
       "    <tr>\n",
       "      <th>1</th>\n",
       "      <td>The Factory - Cafe With a Soul</td>\n",
       "      <td>12/2/2016 Listed in Date Night: Austin, Ambia...</td>\n",
       "      <td>4.0 star rating</td>\n",
       "    </tr>\n",
       "    <tr>\n",
       "      <th>2</th>\n",
       "      <td>The Factory - Cafe With a Soul</td>\n",
       "      <td>11/30/2016 1 check-in Listed in Brunch Spots ...</td>\n",
       "      <td>4.0 star rating</td>\n",
       "    </tr>\n",
       "    <tr>\n",
       "      <th>3</th>\n",
       "      <td>The Factory - Cafe With a Soul</td>\n",
       "      <td>11/25/2016 Very cool decor! Good drinks Nice ...</td>\n",
       "      <td>2.0 star rating</td>\n",
       "    </tr>\n",
       "    <tr>\n",
       "      <th>4</th>\n",
       "      <td>The Factory - Cafe With a Soul</td>\n",
       "      <td>12/3/2016 1 check-in They are located within ...</td>\n",
       "      <td>4.0 star rating</td>\n",
       "    </tr>\n",
       "  </tbody>\n",
       "</table>\n",
       "</div>"
      ],
      "text/plain": [
       "                  coffee_shop_name  \\\n",
       "0  The Factory - Cafe With a Soul    \n",
       "1  The Factory - Cafe With a Soul    \n",
       "2  The Factory - Cafe With a Soul    \n",
       "3  The Factory - Cafe With a Soul    \n",
       "4  The Factory - Cafe With a Soul    \n",
       "\n",
       "                                    full_review_text        star_rating  \n",
       "0   11/25/2016 1 check-in Love love loved the atm...   5.0 star rating   \n",
       "1   12/2/2016 Listed in Date Night: Austin, Ambia...   4.0 star rating   \n",
       "2   11/30/2016 1 check-in Listed in Brunch Spots ...   4.0 star rating   \n",
       "3   11/25/2016 Very cool decor! Good drinks Nice ...   2.0 star rating   \n",
       "4   12/3/2016 1 check-in They are located within ...   4.0 star rating   "
      ]
     },
     "execution_count": 10,
     "metadata": {},
     "output_type": "execute_result"
    }
   ],
   "source": [
    "import pandas as pd\n",
    "\n",
    "url = \"https://raw.githubusercontent.com/LambdaSchool/DS-Unit-4-Sprint-1-NLP/master/module1-text-data/data/yelp_coffeeshop_review_data.csv\"\n",
    "\n",
    "shops = pd.read_csv(url)\n",
    "shops.head()"
   ]
  },
  {
   "cell_type": "code",
   "execution_count": 11,
   "metadata": {},
   "outputs": [],
   "source": [
    "import seaborn as sns\n",
    "import pandas as pd\n",
    "import re\n",
    "from collections import Counter\n",
    "import matplotlib.pyplot as plt\n",
    "import spacy\n",
    "from spacy.tokenizer import Tokenizer\n",
    "from nltk.stem import PorterStemmer "
   ]
  },
  {
   "cell_type": "code",
   "execution_count": 12,
   "metadata": {},
   "outputs": [],
   "source": [
    "#find the attributes of the best & worst coffee shops in the dataset\n",
    "nlp = spacy.load('en_core_web_lg')"
   ]
  },
  {
   "cell_type": "code",
   "execution_count": 15,
   "metadata": {},
   "outputs": [],
   "source": [
    "# Processing Raw Text with Spacy\n",
    "\n",
    "nlp = spacy.load(\"en_core_web_lg\")\n",
    "\n",
    "# Tokenizer\n",
    "tokenizer = Tokenizer(nlp.vocab)"
   ]
  },
  {
   "cell_type": "code",
   "execution_count": 16,
   "metadata": {},
   "outputs": [
    {
     "data": {
      "text/plain": [
       "Index(['coffee_shop_name', 'full_review_text', 'star_rating'], dtype='object')"
      ]
     },
     "execution_count": 16,
     "metadata": {},
     "output_type": "execute_result"
    }
   ],
   "source": [
    "shops.columns"
   ]
  },
  {
   "cell_type": "code",
   "execution_count": 18,
   "metadata": {},
   "outputs": [],
   "source": [
    "#create new DF conserved the original data\n",
    "df = shops.copy()\n",
    "\n",
    "# renames columns for ease of use later\n",
    "df.columns=['shop', 'text', 'rating']\n",
    "\n",
    "# Rating column to have only the number \n",
    "df['rating'] = df['rating'].str[1:4]\n",
    "\n",
    "#Convertsa number string to flat and int\n",
    "df['rating'] = df['rating'].astype(float)\n",
    "df['rating'] = df['rating'].astype(int)\n",
    "\n",
    "#Create date column (full reviwe text - date)\n",
    "df['date'] = df['text'].str.split(' ').apply(lambda x: x[1])\n",
    "\n",
    "#Data column pass to datetime\n",
    "df['date'] = df['date'].apply(pd.to_datetime)\n",
    "\n",
    "#Tokenizer \n",
    "df['counter'] = df['text'].apply(tokenizer)\n",
    "\n",
    "#Token past the date token\n",
    "df['counter'] = df['text'].apply(lambda x: x[2: ])\n",
    "\n",
    "#Past the date token\n",
    "df['counter'] = df['counter']. apply(Counter)"
   ]
  },
  {
   "cell_type": "code",
   "execution_count": 20,
   "metadata": {},
   "outputs": [
    {
     "data": {
      "text/html": [
       "<div>\n",
       "<style scoped>\n",
       "    .dataframe tbody tr th:only-of-type {\n",
       "        vertical-align: middle;\n",
       "    }\n",
       "\n",
       "    .dataframe tbody tr th {\n",
       "        vertical-align: top;\n",
       "    }\n",
       "\n",
       "    .dataframe thead th {\n",
       "        text-align: right;\n",
       "    }\n",
       "</style>\n",
       "<table border=\"1\" class=\"dataframe\">\n",
       "  <thead>\n",
       "    <tr style=\"text-align: right;\">\n",
       "      <th></th>\n",
       "      <th>shop</th>\n",
       "      <th>text</th>\n",
       "      <th>rating</th>\n",
       "      <th>date</th>\n",
       "      <th>counter</th>\n",
       "    </tr>\n",
       "  </thead>\n",
       "  <tbody>\n",
       "    <tr>\n",
       "      <th>0</th>\n",
       "      <td>The Factory - Cafe With a Soul</td>\n",
       "      <td>11/25/2016 1 check-in Love love loved the atm...</td>\n",
       "      <td>5</td>\n",
       "      <td>2016-11-25</td>\n",
       "      <td>{'1': 3, '/': 2, '2': 2, '5': 1, '0': 1, '6': ...</td>\n",
       "    </tr>\n",
       "    <tr>\n",
       "      <th>1</th>\n",
       "      <td>The Factory - Cafe With a Soul</td>\n",
       "      <td>12/2/2016 Listed in Date Night: Austin, Ambia...</td>\n",
       "      <td>4</td>\n",
       "      <td>2016-12-02</td>\n",
       "      <td>{'2': 3, '/': 2, '0': 1, '1': 1, '6': 1, ' ': ...</td>\n",
       "    </tr>\n",
       "    <tr>\n",
       "      <th>2</th>\n",
       "      <td>The Factory - Cafe With a Soul</td>\n",
       "      <td>11/30/2016 1 check-in Listed in Brunch Spots ...</td>\n",
       "      <td>4</td>\n",
       "      <td>2016-11-30</td>\n",
       "      <td>{'1': 3, '/': 2, '3': 1, '0': 2, '2': 1, '6': ...</td>\n",
       "    </tr>\n",
       "    <tr>\n",
       "      <th>3</th>\n",
       "      <td>The Factory - Cafe With a Soul</td>\n",
       "      <td>11/25/2016 Very cool decor! Good drinks Nice ...</td>\n",
       "      <td>2</td>\n",
       "      <td>2016-11-25</td>\n",
       "      <td>{'1': 3, '/': 2, '2': 2, '5': 2, '0': 2, '6': ...</td>\n",
       "    </tr>\n",
       "    <tr>\n",
       "      <th>4</th>\n",
       "      <td>The Factory - Cafe With a Soul</td>\n",
       "      <td>12/3/2016 1 check-in They are located within ...</td>\n",
       "      <td>4</td>\n",
       "      <td>2016-12-03</td>\n",
       "      <td>{'2': 2, '/': 2, '3': 1, '0': 1, '1': 2, '6': ...</td>\n",
       "    </tr>\n",
       "  </tbody>\n",
       "</table>\n",
       "</div>"
      ],
      "text/plain": [
       "                              shop  \\\n",
       "0  The Factory - Cafe With a Soul    \n",
       "1  The Factory - Cafe With a Soul    \n",
       "2  The Factory - Cafe With a Soul    \n",
       "3  The Factory - Cafe With a Soul    \n",
       "4  The Factory - Cafe With a Soul    \n",
       "\n",
       "                                                text  rating       date  \\\n",
       "0   11/25/2016 1 check-in Love love loved the atm...       5 2016-11-25   \n",
       "1   12/2/2016 Listed in Date Night: Austin, Ambia...       4 2016-12-02   \n",
       "2   11/30/2016 1 check-in Listed in Brunch Spots ...       4 2016-11-30   \n",
       "3   11/25/2016 Very cool decor! Good drinks Nice ...       2 2016-11-25   \n",
       "4   12/3/2016 1 check-in They are located within ...       4 2016-12-03   \n",
       "\n",
       "                                             counter  \n",
       "0  {'1': 3, '/': 2, '2': 2, '5': 1, '0': 1, '6': ...  \n",
       "1  {'2': 3, '/': 2, '0': 1, '1': 1, '6': 1, ' ': ...  \n",
       "2  {'1': 3, '/': 2, '3': 1, '0': 2, '2': 1, '6': ...  \n",
       "3  {'1': 3, '/': 2, '2': 2, '5': 2, '0': 2, '6': ...  \n",
       "4  {'2': 2, '/': 2, '3': 1, '0': 1, '1': 2, '6': ...  "
      ]
     },
     "execution_count": 20,
     "metadata": {},
     "output_type": "execute_result"
    }
   ],
   "source": [
    "#visualization changes\n",
    "df.head()"
   ]
  },
  {
   "cell_type": "markdown",
   "metadata": {},
   "source": [
    "## How do we want to analyze these coffee shop tokens? \n",
    "\n",
    "- Overall Word / Token Count\n",
    "- View Counts by Rating \n",
    "- *Hint:* a 'bad' coffee shops has a rating betweeen 1 & 3 based on the distribution of ratings. A 'good' coffee shop is a 4 or 5. "
   ]
  },
  {
   "cell_type": "code",
   "execution_count": 23,
   "metadata": {},
   "outputs": [
    {
     "data": {
      "text/plain": [
       "Counter({'1': 15559,\n",
       "         '/': 16837,\n",
       "         '2': 13405,\n",
       "         '5': 4253,\n",
       "         '0': 11165,\n",
       "         '6': 5121,\n",
       "         ' ': 803482,\n",
       "         'c': 108530,\n",
       "         'h': 155661,\n",
       "         'e': 412304,\n",
       "         'k': 39191,\n",
       "         '-': 10107,\n",
       "         'i': 208132,\n",
       "         'n': 197906,\n",
       "         'L': 3810,\n",
       "         'o': 258721,\n",
       "         'v': 36458,\n",
       "         'l': 134280,\n",
       "         'd': 123943,\n",
       "         't': 288595,\n",
       "         'a': 267274,\n",
       "         'm': 71023,\n",
       "         's': 198605,\n",
       "         'p': 63546,\n",
       "         'r': 177641,\n",
       "         '!': 10020,\n",
       "         'E': 3355,\n",
       "         'y': 74042,\n",
       "         'f': 91160,\n",
       "         'w': 64871,\n",
       "         ',': 29963,\n",
       "         'g': 63664,\n",
       "         'I': 30180,\n",
       "         'u': 90880,\n",
       "         'O': 3424,\n",
       "         '.': 55009,\n",
       "         'P': 2622,\n",
       "         'b': 49473,\n",
       "         'A': 8216,\n",
       "         '?': 1645,\n",
       "         'D': 2253,\n",
       "         'N': 2839,\n",
       "         ':': 1953,\n",
       "         'B': 3982,\n",
       "         'U': 1037,\n",
       "         'T': 16972,\n",
       "         'F': 2700,\n",
       "         '$': 984,\n",
       "         ')': 3853,\n",
       "         'W': 4179,\n",
       "         'j': 4589,\n",
       "         'q': 2869,\n",
       "         '3': 2553,\n",
       "         'S': 6824,\n",
       "         \"'\": 18271,\n",
       "         'z': 3500,\n",
       "         '+': 372,\n",
       "         ';': 460,\n",
       "         'x': 5181,\n",
       "         'C': 5093,\n",
       "         'V': 1094,\n",
       "         'G': 2784,\n",
       "         'H': 3027,\n",
       "         'J': 916,\n",
       "         'M': 4249,\n",
       "         'R': 1939,\n",
       "         '&': 801,\n",
       "         '(': 3419,\n",
       "         'Y': 1769,\n",
       "         '7': 1343,\n",
       "         '\"': 2723,\n",
       "         '4': 2648,\n",
       "         'K': 703,\n",
       "         '~': 47,\n",
       "         '8': 1100,\n",
       "         '9': 1068,\n",
       "         '=': 152,\n",
       "         '…': 27,\n",
       "         'Z': 102,\n",
       "         'Q': 295,\n",
       "         '%': 133,\n",
       "         '*': 440,\n",
       "         'X': 190,\n",
       "         '#': 98,\n",
       "         '@': 28,\n",
       "         'é': 178,\n",
       "         '[': 18,\n",
       "         ']': 19,\n",
       "         'à': 1,\n",
       "         '\\\\': 7,\n",
       "         '^': 13,\n",
       "         '|': 25,\n",
       "         'ñ': 38,\n",
       "         '\\xad': 1,\n",
       "         'è': 31,\n",
       "         'ê': 5,\n",
       "         'û': 6,\n",
       "         '_': 86,\n",
       "         '{': 1,\n",
       "         '}': 3,\n",
       "         '¢': 3,\n",
       "         '¡': 5,\n",
       "         'í': 1,\n",
       "         'á': 1,\n",
       "         '℉': 1,\n",
       "         'オ': 1,\n",
       "         'ー': 7,\n",
       "         'ス': 5,\n",
       "         'テ': 2,\n",
       "         'ィ': 1,\n",
       "         'ン': 3,\n",
       "         'で': 2,\n",
       "         'も': 2,\n",
       "         '日': 3,\n",
       "         '本': 4,\n",
       "         'タ': 1,\n",
       "         'イ': 3,\n",
       "         'ル': 3,\n",
       "         '。': 3,\n",
       "         '照': 2,\n",
       "         'り': 3,\n",
       "         '焼': 2,\n",
       "         'き': 3,\n",
       "         'ボ': 2,\n",
       "         'ウ': 2,\n",
       "         '、': 4,\n",
       "         'チ': 1,\n",
       "         'キ': 1,\n",
       "         'カ': 2,\n",
       "         'ツ': 2,\n",
       "         '唐': 1,\n",
       "         '揚': 1,\n",
       "         'げ': 1,\n",
       "         'な': 1,\n",
       "         'ど': 1,\n",
       "         '色': 1,\n",
       "         '々': 1,\n",
       "         '！': 2,\n",
       "         'セ': 1,\n",
       "         'ッ': 1,\n",
       "         'ト': 4,\n",
       "         'は': 3,\n",
       "         'ラ': 3,\n",
       "         'か': 1,\n",
       "         'サ': 2,\n",
       "         'ダ': 2,\n",
       "         'と': 1,\n",
       "         'マ': 2,\n",
       "         'シ': 1,\n",
       "         'ュ': 1,\n",
       "         'ポ': 1,\n",
       "         '付': 1,\n",
       "         'の': 1,\n",
       "         '味': 2,\n",
       "         'が': 1,\n",
       "         '恋': 1,\n",
       "         'し': 2,\n",
       "         'い': 2,\n",
       "         '時': 1,\n",
       "         'ア': 1,\n",
       "         'モ': 1,\n",
       "         '美': 1,\n",
       "         'す': 2,\n",
       "         '立': 1,\n",
       "         'て': 1,\n",
       "         'コ': 1,\n",
       "         'ナ': 1,\n",
       "         'に': 1,\n",
       "         '雑': 1,\n",
       "         '誌': 1,\n",
       "         'や': 1,\n",
       "         'ガ': 1,\n",
       "         '自': 1,\n",
       "         '由': 1,\n",
       "         '読': 1,\n",
       "         'み': 1,\n",
       "         '用': 1,\n",
       "         'あ': 1,\n",
       "         'ま': 1,\n",
       "         '（': 1,\n",
       "         '）': 1,\n",
       "         'ü': 1,\n",
       "         '¯': 2,\n",
       "         'ä': 1,\n",
       "         '°': 1,\n",
       "         'â': 2,\n",
       "         'É': 1,\n",
       "         'ô': 1})"
      ]
     },
     "execution_count": 23,
     "metadata": {},
     "output_type": "execute_result"
    }
   ],
   "source": [
    "#Overall Word / Token Count\n",
    "\n",
    "howmanywords = df['counter'].sum()\n",
    "howmanywords"
   ]
  },
  {
   "cell_type": "code",
   "execution_count": 24,
   "metadata": {},
   "outputs": [
    {
     "data": {
      "text/plain": [
       "[(' ', 803482),\n",
       " ('e', 412304),\n",
       " ('t', 288595),\n",
       " ('a', 267274),\n",
       " ('o', 258721),\n",
       " ('i', 208132),\n",
       " ('s', 198605)]"
      ]
     },
     "execution_count": 24,
     "metadata": {},
     "output_type": "execute_result"
    }
   ],
   "source": [
    "howmanywords.most_common(7)"
   ]
  },
  {
   "cell_type": "code",
   "execution_count": 25,
   "metadata": {},
   "outputs": [
    {
     "data": {
      "text/plain": [
       "[(' ', 184702),\n",
       " ('e', 94702),\n",
       " ('t', 68652),\n",
       " ('a', 59363),\n",
       " ('o', 58402),\n",
       " ('i', 46617),\n",
       " ('n', 45174)]"
      ]
     },
     "execution_count": 25,
     "metadata": {},
     "output_type": "execute_result"
    }
   ],
   "source": [
    "#View Counts by Rating\n",
    "#  'bad' coffee shops has a rating betweeen 1 & 3 based on the distribution of ratings. \n",
    "#  'good' coffee shop is a 4 or 5.\n",
    "\n",
    "bad = df[df['rating'] > 3 ]\n",
    "good = df[df['rating'] < 4 ]\n",
    "\n",
    "#reviews score\n",
    "howmanywordsbad = bad['counter'].sum()\n",
    "howmanywordsgood = good['counter'].sum()\n",
    "\n",
    "#Good Review\n",
    "howmanywordsgood.most_common(7)"
   ]
  },
  {
   "cell_type": "code",
   "execution_count": 26,
   "metadata": {},
   "outputs": [
    {
     "data": {
      "text/plain": [
       "[(' ', 618780),\n",
       " ('e', 317602),\n",
       " ('t', 219943),\n",
       " ('a', 207911),\n",
       " ('o', 200319),\n",
       " ('i', 161515),\n",
       " ('s', 153573)]"
      ]
     },
     "execution_count": 26,
     "metadata": {},
     "output_type": "execute_result"
    }
   ],
   "source": [
    "#Bad Review \n",
    "howmanywordsbad.most_common(7)"
   ]
  },
  {
   "cell_type": "markdown",
   "metadata": {},
   "source": [
    "## Can visualize the words with the greatest difference in counts between 'good' & 'bad'?\n",
    "\n",
    "Couple Notes: \n",
    "- Rel. freq. instead of absolute counts b/c of different numbers of reviews\n",
    "- Only look at the top 5-10 words with the greatest differences\n"
   ]
  },
  {
   "cell_type": "code",
   "execution_count": 27,
   "metadata": {},
   "outputs": [
    {
     "data": {
      "text/plain": [
       "3    0.500000\n",
       "2    0.311653\n",
       "1    0.188347\n",
       "Name: rating, dtype: float64"
      ]
     },
     "execution_count": 27,
     "metadata": {},
     "output_type": "execute_result"
    }
   ],
   "source": [
    "good['rating'].value_counts(normalize=True)[:10]"
   ]
  },
  {
   "cell_type": "code",
   "execution_count": 28,
   "metadata": {},
   "outputs": [
    {
     "data": {
      "text/plain": [
       "5    0.615635\n",
       "4    0.384365\n",
       "Name: rating, dtype: float64"
      ]
     },
     "execution_count": 28,
     "metadata": {},
     "output_type": "execute_result"
    }
   ],
   "source": [
    "bad['rating'].value_counts(normalize=True)[:10]"
   ]
  },
  {
   "cell_type": "code",
   "execution_count": 53,
   "metadata": {},
   "outputs": [
    {
     "name": "stdout",
     "output_type": "stream",
     "text": [
      "['shop', 'text', 'rating', 'date', 'counter']\n"
     ]
    }
   ],
   "source": [
    "tokens = list(good)\n",
    "print(tokens)"
   ]
  },
  {
   "cell_type": "code",
   "execution_count": 54,
   "metadata": {},
   "outputs": [
    {
     "data": {
      "image/png": "[encoded data removed]",
      "text/plain": [
       "<Figure size 432x288 with 1 Axes>"
      ]
     },
     "metadata": {
      "needs_background": "light"
     },
     "output_type": "display_data"
    }
   ],
   "source": [
    "import seaborn as sns\n",
    "\n",
    "sns.countplot(tokens);"
   ]
  },
  {
   "cell_type": "code",
   "execution_count": 67,
   "metadata": {},
   "outputs": [
    {
     "ename": "SyntaxError",
     "evalue": "invalid syntax (<ipython-input-67-8bea478fb023>, line 4)",
     "output_type": "error",
     "traceback": [
      "\u001b[1;36m  File \u001b[1;32m\"<ipython-input-67-8bea478fb023>\"\u001b[1;36m, line \u001b[1;32m4\u001b[0m\n\u001b[1;33m    lemmas [ ]\u001b[0m\n\u001b[1;37m             ^\u001b[0m\n\u001b[1;31mSyntaxError\u001b[0m\u001b[1;31m:\u001b[0m invalid syntax\n"
     ]
    }
   ],
   "source": [
    "def get_lemmas():\n",
    "    \"\"\"Return the Lemmas \"\"\"\n",
    "    \n",
    "    lemmas [ ]\n",
    "    doc = nlp(yelp_coffeeshop_review_data)\n",
    "    \n",
    "    for token in doc:\n",
    "        if ((token.is_stop == False) adn (token.is_punct == False)) and (token.pos_ != 'PRON'):\n",
    "            lemmas.append(token.lemma_)\n",
    "    \n",
    "    return lemmas"
   ]
  },
  {
   "cell_type": "markdown",
   "metadata": {
    "colab_type": "text",
    "id": "1dCb1q8XphcP",
    "toc-hr-collapsed": true
   },
   "source": [
    "## Stretch Goals\n",
    "\n",
    "* Analyze another corpus of documents - such as Indeed.com job listings ;).\n",
    "* Play with the Spacy API to\n",
    " - Extract Named Entities\n",
    " - Extracting 'noun chunks'\n",
    " - Attempt Document Classification with just Spacy\n",
    " - *Note:* This [course](https://course.spacy.io/) will be of interesting in helping you with these stretch goals. \n",
    "* Try to build a plotly dash app with your text data \n",
    "\n"
   ]
  },
  {
   "cell_type": "code",
   "execution_count": null,
   "metadata": {},
   "outputs": [],
   "source": []
  }
 ],
 "metadata": {
  "colab": {
   "collapsed_sections": [],
   "name": "LS_DS_421_Text_Data_Assignment.ipynb",
   "provenance": [],
   "version": "0.3.2"
  },
  "kernelspec": {
   "display_name": "U4-S1-NLP (Python3)",
   "language": "python",
   "name": "u4-s1-nlp"
  },
  "language_info": {
   "codemirror_mode": {
    "name": "ipython",
    "version": 3
   },
   "file_extension": ".py",
   "mimetype": "text/x-python",
   "name": "python",
   "nbconvert_exporter": "python",
   "pygments_lexer": "ipython3",
   "version": "3.7.0"
  },
  "toc-autonumbering": false
 },
 "nbformat": 4,
 "nbformat_minor": 4
}
